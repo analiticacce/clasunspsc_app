{
 "cells": [
  {
   "cell_type": "code",
   "execution_count": 3,
   "id": "dfe11ec3-be1a-4a55-8f37-b6d0e1439510",
   "metadata": {},
   "outputs": [],
   "source": [
    "from clasunspsc.clasunspsc import recomendador"
   ]
  },
  {
   "cell_type": "code",
   "execution_count": 4,
   "id": "dc1b3f33-33bf-4a25-a91f-62a9f3e49ba7",
   "metadata": {},
   "outputs": [
    {
     "name": "stdout",
     "output_type": "stream",
     "text": [
      "jabon ase\n",
      "[0.34894641 0.25099959 0.23015969 0.22617894]\n"
     ]
    },
    {
     "data": {
      "text/html": [
       "<table border=\"1\" class=\"dataframe\">\n",
       "  <thead>\n",
       "    <tr style=\"text-align: right;\">\n",
       "      <th></th>\n",
       "      <th>Código Producto</th>\n",
       "      <th>Nombre Producto</th>\n",
       "      <th>Nombre Clase</th>\n",
       "    </tr>\n",
       "  </thead>\n",
       "  <tbody>\n",
       "    <tr>\n",
       "      <th>23899</th>\n",
       "      <td>47131704</td>\n",
       "      <td>Dispensadores institucionales de jabón o loción</td>\n",
       "      <td>Suministros para aseos</td>\n",
       "    </tr>\n",
       "    <tr>\n",
       "      <th>43746</th>\n",
       "      <td>53131608</td>\n",
       "      <td>Jabones</td>\n",
       "      <td>Baño y cuerpo</td>\n",
       "    </tr>\n",
       "    <tr>\n",
       "      <th>23837</th>\n",
       "      <td>47121602</td>\n",
       "      <td>Aspiradoras</td>\n",
       "      <td>Máquinas y accesorios para pisos</td>\n",
       "    </tr>\n",
       "    <tr>\n",
       "      <th>12858</th>\n",
       "      <td>30181614</td>\n",
       "      <td>Dispensador de jabón</td>\n",
       "      <td>Instalaciones residenciales no sanitarias</td>\n",
       "    </tr>\n",
       "  </tbody>\n",
       "</table>"
      ],
      "text/plain": [
       "<IPython.core.display.HTML object>"
      ]
     },
     "metadata": {},
     "output_type": "display_data"
    }
   ],
   "source": [
    "recomendador('Jabones, Aseo',4)"
   ]
  }
 ],
 "metadata": {
  "kernelspec": {
   "display_name": "Python 3 (ipykernel)",
   "language": "python",
   "name": "python3"
  },
  "language_info": {
   "codemirror_mode": {
    "name": "ipython",
    "version": 3
   },
   "file_extension": ".py",
   "mimetype": "text/x-python",
   "name": "python",
   "nbconvert_exporter": "python",
   "pygments_lexer": "ipython3",
   "version": "3.10.4"
  }
 },
 "nbformat": 4,
 "nbformat_minor": 5
}
